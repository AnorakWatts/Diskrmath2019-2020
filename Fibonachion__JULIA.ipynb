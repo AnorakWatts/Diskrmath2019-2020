{
 "cells": [
  {
   "cell_type": "code",
   "execution_count": 31,
   "metadata": {},
   "outputs": [
    {
     "name": "stdout",
     "output_type": "stream",
     "text": [
      "0  1  1  2  3  5  8  13  21  34  55  89  144  233  377  610  "
     ]
    }
   ],
   "source": [
    "function bitn(nn)\n",
    " bitnn=BitArray(undef, 64)\n",
    "    i=1\n",
    "    n=Int64(nn)\n",
    "    for i in 1:64\n",
    "        u=(n%2)\n",
    "        if(u==1)\n",
    "            bitnn[i]=1\n",
    "        end\n",
    "        n=div(n,2)\n",
    "    end\n",
    "    return bitnn\n",
    "end\n",
    "\n",
    "function MxM(m1,m2)\n",
    "    res=zeros(Int64,2,2)\n",
    "        res[1]=m1[1]*m2[1]+m1[2]*m2[3]\n",
    "        res[2]=m1[1]*m2[2]+m1[2]*m2[4]\n",
    "        res[3]=m1[3]*m2[1]+m1[4]*m2[3]\n",
    "        res[4]=m1[3]*m2[2]+m1[4]*m2[4]\n",
    "    return res\n",
    "end\n",
    "\n",
    "\n",
    "function mpow(powof2)\n",
    "    m=zeros(Int64,2,2)\n",
    "    buf=zeros(Int64,2,2)\n",
    "    buf=[[1,1];[1,0]]\n",
    "    for h in 0:powof2\n",
    "        m[1]=buf[1]*buf[1]+buf[2]*buf[3]\n",
    "        m[2]=buf[1]*buf[2]+buf[2]*buf[4]\n",
    "        m[3]=buf[3]*buf[1]+buf[4]*buf[3]\n",
    "        m[4]=buf[3]*buf[2]+buf[4]*buf[4]\n",
    "        buf=m\n",
    "        m=zeros(Int64,2,2)\n",
    "    end\n",
    "   # print(\"         \",buf)\n",
    "    return buf\n",
    "end\n",
    "   \n",
    "\n",
    "\n",
    "function Fib(n)\n",
    "    pow=zeros(Int64,2,2)\n",
    "    pow=[[1,0];[0,1]]\n",
    "    nbit=bitn(n)\n",
    "    #print(nbit)\n",
    "    for i in 1:length(nbit)\n",
    "       # print(nbit[i])\n",
    "        if(nbit[i])\n",
    "        #print(\"Evt.       \",i)\n",
    "            pow=MxM(pow,mpow(i-2))\n",
    "        end\n",
    "    end\n",
    "    print(pow[4])\n",
    "end\n",
    "for i in 1:16\n",
    "    Fib(i)\n",
    "    print(\"  \")\n",
    "end"
   ]
  },
  {
   "cell_type": "code",
   "execution_count": null,
   "metadata": {},
   "outputs": [],
   "source": []
  },
  {
   "cell_type": "code",
   "execution_count": null,
   "metadata": {},
   "outputs": [],
   "source": []
  }
 ],
 "metadata": {
  "kernelspec": {
   "display_name": "Julia 1.1.0",
   "language": "julia",
   "name": "julia-1.1"
  },
  "language_info": {
   "file_extension": ".jl",
   "mimetype": "application/julia",
   "name": "julia",
   "version": "1.1.0"
  }
 },
 "nbformat": 4,
 "nbformat_minor": 2
}
